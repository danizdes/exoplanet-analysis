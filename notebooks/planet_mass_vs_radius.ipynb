{
 "cells": [
  {
   "cell_type": "markdown",
   "id": "aa1334e7",
   "metadata": {},
   "source": [
    "# Comparing the planets mass against radius\n",
    "\n",
    "This file will compare the planets mass against it's radius using a **Scatter Plot**\n",
    "\n",
    "## Needed Columns\n",
    "1. pl_rade\n",
    "<br /><br />\n",
    "2. pl_bmasse\n",
    "<br /><br />"
   ]
  },
  {
   "cell_type": "code",
   "execution_count": 11,
   "id": "fa1c52fd",
   "metadata": {},
   "outputs": [],
   "source": [
    "# Import pandas\n",
    "import pandas as pd"
   ]
  },
  {
   "cell_type": "code",
   "execution_count": null,
   "id": "70a1ed7a",
   "metadata": {},
   "outputs": [],
   "source": [
    "# Load in the complete data.csv file\n",
    "all_data = pd.read_csv(\"../data/data.csv\")\n",
    "\n",
    "# Creating a list of only the required columns\n",
    "required_columns = [\"pl_rade\", \"pl_bmasse\"]\n",
    "\n",
    "# Create a new dataframe with only the required columns\n",
    "required_data = all_data[required_columns]\n",
    "\n",
    "# Save the data as a csv file\n",
    "required_data.to_csv(\"../data/planet_mass_radius.csv\", index=False)"
   ]
  }
 ],
 "metadata": {
  "kernelspec": {
   "display_name": "env",
   "language": "python",
   "name": "python3"
  },
  "language_info": {
   "codemirror_mode": {
    "name": "ipython",
    "version": 3
   },
   "file_extension": ".py",
   "mimetype": "text/x-python",
   "name": "python",
   "nbconvert_exporter": "python",
   "pygments_lexer": "ipython3",
   "version": "3.12.3"
  }
 },
 "nbformat": 4,
 "nbformat_minor": 5
}
