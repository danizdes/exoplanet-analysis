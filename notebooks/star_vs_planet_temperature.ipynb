{
 "cells": [
  {
   "cell_type": "markdown",
   "id": "616a900d",
   "metadata": {},
   "source": [
    "# Comparing the stars temperature against the planets temperature\n",
    "\n",
    "This file will compare the planets radius against it's mass using an **XY Plot**\n",
    "\n",
    "## Needed Columns\n",
    "1. st_teff\n",
    "<br /><br />\n",
    "2. pl_eqt\n",
    "<br /><br />\n",
    "\n",
    "Most the file is identical to the ```planet_radius_vs_mass.ipynb``` except the required columns and the csv file the data is being saved to."
   ]
  },
  {
   "cell_type": "code",
   "execution_count": 3,
   "id": "f9797c36",
   "metadata": {},
   "outputs": [],
   "source": [
    "# Importing Panda's, which will be doing most of the heavy work\n",
    "import pandas as pd"
   ]
  },
  {
   "cell_type": "code",
   "execution_count": 5,
   "id": "444df353",
   "metadata": {},
   "outputs": [],
   "source": [
    "# Load in the complete data.csv file\n",
    "all_data = pd.read_csv(\"../data/data.csv\")\n",
    "\n",
    "# Creating a list of only the required columns\n",
    "required_columns = [\"st_teff\", \"pl_eqt\", \"pl_rade\", \"pl_orbsmax\"]\n",
    "\n",
    "# Create a new dataframe with only the required columns\n",
    "required_data = all_data[required_columns]\n",
    "\n",
    "# Save the data as a csv file\n",
    "required_data.to_csv(\"../data/star_vs_planet_temperature.csv\", index=False)"
   ]
  }
 ],
 "metadata": {
  "kernelspec": {
   "display_name": "env",
   "language": "python",
   "name": "python3"
  },
  "language_info": {
   "codemirror_mode": {
    "name": "ipython",
    "version": 3
   },
   "file_extension": ".py",
   "mimetype": "text/x-python",
   "name": "python",
   "nbconvert_exporter": "python",
   "pygments_lexer": "ipython3",
   "version": "3.12.3"
  }
 },
 "nbformat": 4,
 "nbformat_minor": 5
}
