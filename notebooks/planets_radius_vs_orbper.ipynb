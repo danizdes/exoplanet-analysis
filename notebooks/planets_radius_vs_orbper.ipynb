{
 "cells": [
  {
   "cell_type": "markdown",
   "id": "50f2fef1",
   "metadata": {},
   "source": [
    "# Planets Radius (Y axis) vs Orbital period (X axis)\n",
    "\n",
    "This part compares the planets radius to it's orbital period to see if theres any hidden connection:\n",
    "\n",
    "* ```pl_orbper```: Planets orbital distance\n",
    "* ```pl_rade```: Planets radius compared to earth"
   ]
  },
  {
   "cell_type": "code",
   "execution_count": 1,
   "id": "bc622ad8",
   "metadata": {},
   "outputs": [],
   "source": [
    "# Import pandas\n",
    "import pandas as pd"
   ]
  },
  {
   "cell_type": "code",
   "execution_count": 2,
   "id": "31202768",
   "metadata": {},
   "outputs": [],
   "source": [
    "# Load in the complete data.csv file\n",
    "all_data = pd.read_csv(\"../data/data.csv\")\n",
    "\n",
    "# Creating a list of only the required columns\n",
    "required_columns = [\"pl_orbper\", \"pl_rade\"]\n",
    "\n",
    "# Create a new dataframe with only the required columns\n",
    "required_data = all_data[required_columns]\n",
    "\n",
    "# Save the data as a csv file\n",
    "required_data.to_csv(\"../data/planets_radius_vs_orbper.csv\", index=False)"
   ]
  }
 ],
 "metadata": {
  "kernelspec": {
   "display_name": "env",
   "language": "python",
   "name": "python3"
  },
  "language_info": {
   "codemirror_mode": {
    "name": "ipython",
    "version": 3
   },
   "file_extension": ".py",
   "mimetype": "text/x-python",
   "name": "python",
   "nbconvert_exporter": "python",
   "pygments_lexer": "ipython3",
   "version": "3.12.3"
  }
 },
 "nbformat": 4,
 "nbformat_minor": 5
}
