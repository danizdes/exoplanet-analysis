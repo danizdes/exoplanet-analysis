{
 "cells": [
  {
   "cell_type": "markdown",
   "id": "a4fb7622",
   "metadata": {},
   "source": [
    "# Introduction\n",
    "This project was made as a hackathon submission for the [Steller Gateway Quest](https://stellar-gateway-quest.devpost.com/)\n",
    "\n",
    "This project uses [Nasas Exoplanet Archive's](https://exoplanetarchive.ipac.caltech.edu/docs/data.html) [Planetary System](https://exoplanetarchive.ipac.caltech.edu/cgi-bin/TblView/nph-tblView?app=ExoTbls&config=PS) data(saved in the ```planetory_systems.csv``` file) to compare the planets characteristics:\n",
    "\n",
    "- The planets radius against the planets mass\n",
    "- The planets discovery year against the number of planets\n",
    "- The stars temperature against the planets temperature\n",
    "\n",
    "This file aims to refine the ```planetory_systems.csv``` file containing all the data into a ```data.csv``` file containing only the data needed.\n",
    "\n",
    "## Needed Columns From Table\n",
    "\n",
    "1. pl_name: Planets Name\n",
    "<br/><br/>\n",
    "2. pl_rade: Planets Radius Compared to Earth\n",
    "<br/><br/>\n",
    "3. pl_bmasse: Planets Mass compared to Earth\n",
    "<br/><br/>\n",
    "4. disc_year: Planets discovery year\n",
    "<br/><br/>\n",
    "5. st_teff: Stars Temperature in Kelvin\n",
    "<br/><br/>\n",
    "6. pl_eqt: Planets Equilibrium Temperature in Kelvin\n",
    "<br/><br/>\n",
    "7. pl_orbsmax: Planets orbital distance in Astronomical Units (AU)"
   ]
  },
  {
   "cell_type": "code",
   "execution_count": 5,
   "id": "e65a5970",
   "metadata": {},
   "outputs": [],
   "source": [
    "# Importing Panda's, which will be doing most of the heavy work\n",
    "import pandas as pd"
   ]
  },
  {
   "cell_type": "code",
   "execution_count": 6,
   "id": "0387b9b0",
   "metadata": {},
   "outputs": [],
   "source": [
    "# Load in the NASA dataset, noting \"#\" as a line beggining with a comment\n",
    "nasa_dataset = pd.read_csv(\"../planetory_systems.csv\", comment=\"#\")"
   ]
  },
  {
   "cell_type": "code",
   "execution_count": 7,
   "id": "84d22601",
   "metadata": {},
   "outputs": [],
   "source": [
    "# Set only the required columns needed\n",
    "required_columns = [\"pl_name\", \"pl_rade\", \"pl_bmasse\", \"disc_year\", \"st_teff\", \"pl_eqt\", \"pl_orbsmax\", \"pl_orbper\"]\n",
    "\n",
    "# Create a new dataframe with the required columns only\n",
    "data = nasa_dataset[required_columns]\n",
    "\n",
    "# Drop all the rows with \"NaN\"\n",
    "data = data.dropna(subset=required_columns)"
   ]
  },
  {
   "cell_type": "code",
   "execution_count": 8,
   "id": "1503acfa",
   "metadata": {},
   "outputs": [],
   "source": [
    "# Save the new data as a CSV file\n",
    "data.to_csv(\"../data/data.csv\", index=False)"
   ]
  },
  {
   "cell_type": "markdown",
   "id": "57f31c13",
   "metadata": {},
   "source": [
    "# Next Steps:\n",
    "- ```planet_mass_vs_radius.ipynb```: Planets radius against mass\n",
    "<br /><br />\n",
    "- ```exoplanet_discoveries_by_year.ipynb```: Planets Discovery Year vs Number of Planets\n",
    "<br /><br />\n",
    "- ```star_vs_planet_temperature.ipynb```: Stars temperature against planets temperature"
   ]
  }
 ],
 "metadata": {
  "kernelspec": {
   "display_name": "env",
   "language": "python",
   "name": "python3"
  },
  "language_info": {
   "codemirror_mode": {
    "name": "ipython",
    "version": 3
   },
   "file_extension": ".py",
   "mimetype": "text/x-python",
   "name": "python",
   "nbconvert_exporter": "python",
   "pygments_lexer": "ipython3",
   "version": "3.12.3"
  }
 },
 "nbformat": 4,
 "nbformat_minor": 5
}
