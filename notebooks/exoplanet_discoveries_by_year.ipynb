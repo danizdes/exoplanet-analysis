{
 "cells": [
  {
   "cell_type": "markdown",
   "id": "7dfee9d9",
   "metadata": {},
   "source": [
    "# Exoplanet Discoveries By Year\n",
    "\n",
    "This file will compare the exoplanet discoveries by year using a **Bar Graph**\n",
    "\n",
    "## Needed Columns\n",
    "1. disc_year\n",
    "<br /><br />"
   ]
  },
  {
   "cell_type": "code",
   "execution_count": 1,
   "id": "d2dc9224",
   "metadata": {},
   "outputs": [],
   "source": [
    "# Import pandas\n",
    "import pandas as pd"
   ]
  },
  {
   "cell_type": "code",
   "execution_count": 2,
   "id": "68010a83",
   "metadata": {},
   "outputs": [],
   "source": [
    "# Load in the complete data.csv file\n",
    "all_data = pd.read_csv(\"../data/data.csv\")\n",
    "\n",
    "# Counting amount of times for each year\n",
    "disc_year_counts = all_data['disc_year'].value_counts().sort_index()\n",
    "\n",
    "# Create a new dataframe with required data only\n",
    "new_data = pd.DataFrame({\n",
    "    'disc_year': disc_year_counts.index,\n",
    "    'count': disc_year_counts.values\n",
    "})\n",
    "\n",
    "# Save the data as a csv file\n",
    "new_data.to_csv(\"../data/exoplanet_discoveries_by_year.csv\", index=False)"
   ]
  }
 ],
 "metadata": {
  "kernelspec": {
   "display_name": "env",
   "language": "python",
   "name": "python3"
  },
  "language_info": {
   "codemirror_mode": {
    "name": "ipython",
    "version": 3
   },
   "file_extension": ".py",
   "mimetype": "text/x-python",
   "name": "python",
   "nbconvert_exporter": "python",
   "pygments_lexer": "ipython3",
   "version": "3.12.3"
  }
 },
 "nbformat": 4,
 "nbformat_minor": 5
}
